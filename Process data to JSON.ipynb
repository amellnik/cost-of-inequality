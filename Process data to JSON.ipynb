{
 "cells": [
  {
   "cell_type": "code",
   "execution_count": 25,
   "metadata": {},
   "outputs": [
    {
     "name": "stderr",
     "output_type": "stream",
     "text": [
      "┌ Info: Precompiling JSONTables [b9914132-a727-11e9-1322-f18e41205b0b]\n",
      "└ @ Base loading.jl:1260\n"
     ]
    }
   ],
   "source": [
    "using DataFrames, CSV, PlotlyJS, JSONTables"
   ]
  },
  {
   "cell_type": "code",
   "execution_count": 26,
   "metadata": {},
   "outputs": [
    {
     "data": {
      "text/plain": [
       "addPercentileCols (generic function with 1 method)"
      ]
     },
     "execution_count": 26,
     "metadata": {},
     "output_type": "execute_result"
    }
   ],
   "source": [
    "# Parse the string percentile range column into two numeric ones we can easily use\n",
    "col_regex = r\"p(.+)p(.+)\"\n",
    "function getPercentiles(ps::String)\n",
    "    m = match(col_regex, ps)\n",
    "    if typeof(m) == Nothing \n",
    "        return (-1.0, -1.0)\n",
    "    end\n",
    "    start, stop = map(s -> parse(Float64, s), m.captures)\n",
    "    return (start, stop)\n",
    "end\n",
    "function addPercentileCols(df::DataFrame)\n",
    "    percentiles = [getPercentiles(r[:percentile]) for r in eachrow(df)]\n",
    "    df[!, :start] = [p[1]/100 for p in percentiles]\n",
    "    df[!, :end] = [p[2]/100 for p in percentiles]\n",
    "    return df\n",
    "end"
   ]
  },
  {
   "cell_type": "code",
   "execution_count": 27,
   "metadata": {},
   "outputs": [],
   "source": [
    "# Grab two tables that we care about\n",
    "data = CSV.read(\"./data/WID_data_US.csv\") |> DataFrame\n",
    "# Post-tax disposable income (threshold for being in this bracket)\n",
    "income = addPercentileCols(filter(r -> r[:variable] == \"tcainc992j\", data))\n",
    "# The share of total post-tax claimed by this bracket\n",
    "share = addPercentileCols(filter(r -> r[:variable] == \"scainc992j\", data));"
   ]
  },
  {
   "cell_type": "code",
   "execution_count": 28,
   "metadata": {},
   "outputs": [
    {
     "data": {
      "text/plain": [
       "fourTiers (generic function with 1 method)"
      ]
     },
     "execution_count": 28,
     "metadata": {},
     "output_type": "execute_result"
    }
   ],
   "source": [
    "# Functions to separate out only the percentiles that we care about for this analysis\n",
    "totalShare(df) = filter(r -> r[:percentile] == \"p0p100\", df)\n",
    "function fourTiersCheck(r::DataFrameRow)\n",
    "    # Between 0 and 99 % we take every 1%\n",
    "    if (r[:start] < .99) && (r[:end] - r[:start] ≈ 0.01)\n",
    "        return true\n",
    "    # From 99 to 99.9 % we take every 0.1%\n",
    "    elseif (.99 <= r[:start] < .999) && (r[:end] - r[:start] ≈ 0.001)\n",
    "        return true\n",
    "    # from 99.9 to 99.99%% we take every 0.01%\n",
    "    elseif (.999 <= r[:start]) && (r[:end] - r[:start] ≈ 0.0001)\n",
    "        return true\n",
    "    # from 99.99% to 100% we take every 0.001%\n",
    "    elseif (.9999 <= r[:start]) && (r[:end] - r[:start] ≈ 0.00001)\n",
    "        return true\n",
    "    end\n",
    "    return false\n",
    "end\n",
    "fourTiers(df) = filter(r -> threeTiersCheck(r), df)"
   ]
  },
  {
   "cell_type": "code",
   "execution_count": 31,
   "metadata": {},
   "outputs": [
    {
     "data": {
      "text/plain": [
       "365628"
      ]
     },
     "execution_count": 31,
     "metadata": {},
     "output_type": "execute_result"
    }
   ],
   "source": [
    "tieredIncome = sort(fourTiers(income), [:year, :start])[:,[:year, :start, :end, :value]]\n",
    "open(\"fourTiersIncome.json\", \"w\") do io\n",
    "    arraytable(io, tieredIncome)\n",
    "end"
   ]
  },
  {
   "cell_type": "code",
   "execution_count": 24,
   "metadata": {},
   "outputs": [
    {
     "ename": "ArgumentError",
     "evalue": "ArgumentError: Dict(kv): kv needs to be an iterator of tuples or pairs",
     "output_type": "error",
     "traceback": [
      "ArgumentError: Dict(kv): kv needs to be an iterator of tuples or pairs",
      "",
      "Stacktrace:",
      " [1] Dict(::DataFrameRow{DataFrame,DataFrames.Index}) at ./dict.jl:131",
      " [2] |>(::DataFrameRow{DataFrame,DataFrames.Index}, ::Type{T} where T) at ./operators.jl:823",
      " [3] top-level scope at In[24]:1"
     ]
    }
   ],
   "source": [
    "tieredIncome[1,:] |> Dict"
   ]
  },
  {
   "cell_type": "code",
   "execution_count": 10,
   "metadata": {},
   "outputs": [
    {
     "data": {
      "text/plain": [
       "\"generated/2014_income.csv\""
      ]
     },
     "execution_count": 10,
     "metadata": {},
     "output_type": "execute_result"
    }
   ],
   "source": [
    "# Test generating the initial plot\n",
    "initial_df = sort(filter(r -> r[:year] == 2014, fourTiers(income)), :start)\n",
    "crop = initial_df[:, [:start, :end, :value]]\n",
    "crop |> CSV.write(\"generated/2014_income.csv\")"
   ]
  },
  {
   "cell_type": "code",
   "execution_count": 11,
   "metadata": {},
   "outputs": [
    {
     "data": {
      "application/vnd.plotly.v1+json": {
       "data": [
        {
         "mode": "markers",
         "type": "scatter",
         "x": [
          1,
          0.99,
          0.98,
          0.97,
          0.96,
          0.95,
          0.94,
          0.9299999999999999,
          0.92,
          0.91,
          0.9,
          0.89,
          0.88,
          0.87,
          0.86,
          0.85,
          0.84,
          0.83,
          0.8200000000000001,
          0.81,
          0.8,
          0.79,
          0.78,
          0.77,
          0.76,
          0.75,
          0.74,
          0.73,
          0.72,
          0.71,
          0.7,
          0.69,
          0.6799999999999999,
          0.6699999999999999,
          0.6599999999999999,
          0.65,
          0.64,
          0.63,
          0.62,
          0.61,
          0.6,
          0.5900000000000001,
          0.5800000000000001,
          0.5700000000000001,
          0.56,
          0.55,
          0.54,
          0.53,
          0.52,
          0.51,
          0.5,
          0.49,
          0.48,
          0.47,
          0.45999999999999996,
          0.44999999999999996,
          0.43999999999999995,
          0.43000000000000005,
          0.42000000000000004,
          0.41000000000000003,
          0.4,
          0.39,
          0.38,
          0.37,
          0.36,
          0.35,
          0.33999999999999997,
          0.32999999999999996,
          0.31999999999999995,
          0.31000000000000005,
          0.30000000000000004,
          0.29000000000000004,
          0.28,
          0.27,
          0.26,
          0.25,
          0.24,
          0.22999999999999998,
          0.21999999999999997,
          0.20999999999999996,
          0.19999999999999996,
          0.18999999999999995,
          0.18000000000000005,
          0.17000000000000004,
          0.16000000000000003,
          0.15000000000000002,
          0.14,
          0.13,
          0.12,
          0.10999999999999999,
          0.09999999999999998,
          0.08999999999999997,
          0.07999999999999996,
          0.06999999999999995,
          0.06000000000000005,
          0.050000000000000044,
          0.040000000000000036,
          0.030000000000000027,
          0.020000000000000018,
          0.010000000000000009,
          0.009000000000000008,
          0.008000000000000007,
          0.007000000000000006,
          0.005999999999999894,
          0.0050000000000000044,
          0.0040000000000000036,
          0.0030000000000000027,
          0.0020000000000000018,
          0.0009999999999998899,
          0.0009000000000000119,
          0.0008000000000000229,
          0.0006999999999999229,
          0.0006000000000000449,
          0.0004999999999999449,
          0.00040000000000006697,
          0.00029999999999996696,
          0.00019999999999997797,
          0.00010000000000010001,
          9.00000000000345e-05,
          7.999999999996898e-05,
          7.00000000000145e-05,
          5.999999999994898e-05,
          4.999999999999449e-05,
          4.0000000000040004e-05,
          2.999999999997449e-05,
          1.999999999990898e-05,
          1.0000000000065512e-05
         ],
         "y": [
          -99474736,
          0,
          0,
          1278,
          2822.4,
          4206.9,
          5485,
          6656.5,
          7668.3,
          8573.6,
          9372.4,
          10117.9,
          10756.9,
          11502.4,
          12141.5,
          12780.5,
          13419.5,
          13952,
          14591,
          15230.1,
          15762.6,
          16401.6,
          16934.1,
          17466.7,
          18105.7,
          18531.7,
          19170.7,
          19703.2,
          20235.8,
          20661.8,
          21194.3,
          21726.8,
          22259.3,
          22791.9,
          23324.4,
          23750.4,
          24389.4,
          24921.9,
          25348,
          25987,
          26519.5,
          27052,
          27584.5,
          28117.1,
          28649.6,
          29288.6,
          29927.6,
          30460.1,
          31099.2,
          31738.2,
          32377.2,
          33016.2,
          33655.3,
          34294.3,
          34933.3,
          35572.3,
          36317.9,
          36956.9,
          37808.9,
          38447.9,
          39193.5,
          40045.5,
          40791,
          41643.1,
          42495.1,
          43347.1,
          44199.2,
          45051.2,
          46009.7,
          47074.8,
          48033.3,
          48991.8,
          50056.9,
          51121.9,
          52187,
          53358.5,
          54743.1,
          56127.6,
          57618.7,
          59109.7,
          60707.3,
          62411.3,
          64221.9,
          66139,
          68056.1,
          70292.6,
          72635.7,
          75191.8,
          77960.9,
          81369.1,
          85096.7,
          89569.9,
          94788.6,
          101072.3,
          108634.1,
          119284.5,
          134195,
          156560.9,
          198097.4,
          300341.3,
          320577,
          344007.9,
          372764,
          408975.3,
          454772.1,
          521869.6,
          618788.3,
          797714.9,
          1246096.8,
          1341950.4,
          1459104.8,
          1597560,
          1767966.4,
          2002275.1,
          2321787.3,
          2854307.3,
          3759591.3,
          6113329.5,
          6592597.5,
          7157068.5,
          7849344.5,
          8743978,
          9915522,
          11715440,
          14378040,
          19277224,
          30992664
         ]
        }
       ],
       "layout": {
        "autosize": true,
        "margin": {
         "b": 50,
         "l": 50,
         "r": 50,
         "t": 60
        },
        "title": {
         "text": "Distribution of post-tax disposable income"
        },
        "xaxis": {
         "autorange": true,
         "range": [
          1.0621248912015138,
          -0.06211489120151364
         ],
         "tickformat": ",%",
         "title": {
          "text": "Top X percentile of population"
         },
         "type": "linear"
        },
        "yaxis": {
         "autorange": true,
         "range": [
          -108544077.8760469,
          40062005.8760469
         ],
         "title": {
          "text": "Income (2014 dollars)"
         },
         "type": "linear"
        }
       }
      },
      "application/vnd.webio.node+json": {
       "children": [
        {
         "children": [],
         "instanceArgs": {
          "namespace": "html",
          "tag": "div"
         },
         "nodeType": "DOM",
         "props": {
          "id": "plot-4286f1cc-e8fd-45cc-a6af-8f8763d2df50"
         },
         "type": "node"
        }
       ],
       "instanceArgs": {
        "handlers": {
         "__get_gd_contents": [
          "(function (prop){prop==\"data\" ? (WebIO.setval({\"name\":\"__gd_contents\",\"scope\":\"10787938595225125270\",\"id\":\"16493130825594188135\",\"type\":\"observable\"},this.plotElem.data)) : undefined; return prop==\"layout\" ? (WebIO.setval({\"name\":\"__gd_contents\",\"scope\":\"10787938595225125270\",\"id\":\"16493130825594188135\",\"type\":\"observable\"},this.plotElem.layout)) : undefined})"
         ],
         "_commands": [
          "(function (args){var fn=args.shift(); var elem=this.plotElem; var Plotly=this.Plotly; args.unshift(elem); return Plotly[fn].apply(this,args)})"
         ],
         "_downloadImage": [
          "(function (options){return this.Plotly.downloadImage(this.plotElem,options)})"
         ],
         "_toImage": [
          "(function (options){return this.Plotly.toImage(this.plotElem,options).then((function (data){return WebIO.setval({\"name\":\"image\",\"scope\":\"10787938595225125270\",\"id\":\"16699696036545949337\",\"type\":\"observable\"},data)}))})"
         ]
        },
        "id": "10787938595225125270",
        "imports": {
         "data": [
          {
           "name": "Plotly",
           "type": "js",
           "url": "/assetserver/31c0531ad145f23b5bfa6e11df4ce07dd2757a78-plotly-latest.min.js"
          },
          {
           "name": null,
           "type": "js",
           "url": "/assetserver/ad0eac4bb6e2627fe9518f1c6f8ed50c9b8b9199-plotly_webio.bundle.js"
          }
         ],
         "type": "async_block"
        },
        "mount_callbacks": [
         "function () {\n    var handler = ((function (Plotly,PlotlyWebIO){PlotlyWebIO.init(WebIO); var gd=this.dom.querySelector(\"#plot-4286f1cc-e8fd-45cc-a6af-8f8763d2df50\"); this.plotElem=gd; this.Plotly=Plotly; (window.Blink!==undefined) ? (gd.style.width=\"100%\", gd.style.height=\"100vh\", gd.style.marginLeft=\"0%\", gd.style.marginTop=\"0vh\") : undefined; window.onresize=(function (){return Plotly.Plots.resize(gd)}); Plotly.newPlot(gd,[{\"mode\":\"markers\",\"y\":[-9.9474736e7,0.0,0.0,1278.0,2822.4,4206.9,5485.0,6656.5,7668.3,8573.6,9372.4,10117.9,10756.9,11502.4,12141.5,12780.5,13419.5,13952.0,14591.0,15230.1,15762.6,16401.6,16934.1,17466.7,18105.7,18531.7,19170.7,19703.2,20235.8,20661.8,21194.3,21726.8,22259.3,22791.9,23324.4,23750.4,24389.4,24921.9,25348.0,25987.0,26519.5,27052.0,27584.5,28117.1,28649.6,29288.6,29927.6,30460.1,31099.2,31738.2,32377.2,33016.2,33655.3,34294.3,34933.3,35572.3,36317.9,36956.9,37808.9,38447.9,39193.5,40045.5,40791.0,41643.1,42495.1,43347.1,44199.2,45051.2,46009.7,47074.8,48033.3,48991.8,50056.9,51121.9,52187.0,53358.5,54743.1,56127.6,57618.7,59109.7,60707.3,62411.3,64221.9,66139.0,68056.1,70292.6,72635.7,75191.8,77960.9,81369.1,85096.7,89569.9,94788.6,101072.3,108634.1,119284.5,134195.0,156560.9,198097.4,300341.3,320577.0,344007.9,372764.0,408975.3,454772.1,521869.6,618788.3,797714.9,1.2460968e6,1.3419504e6,1.4591048e6,1.59756e6,1.7679664e6,2.0022751e6,2.3217873e6,2.8543073e6,3.7595913e6,6.1133295e6,6.5925975e6,7.1570685e6,7.8493445e6,8.743978e6,9.915522e6,1.171544e7,1.437804e7,1.9277224e7,3.0992664e7],\"type\":\"scatter\",\"x\":[1.0,0.99,0.98,0.97,0.96,0.95,0.94,0.9299999999999999,0.92,0.91,0.9,0.89,0.88,0.87,0.86,0.85,0.84,0.83,0.8200000000000001,0.81,0.8,0.79,0.78,0.77,0.76,0.75,0.74,0.73,0.72,0.71,0.7,0.69,0.6799999999999999,0.6699999999999999,0.6599999999999999,0.65,0.64,0.63,0.62,0.61,0.6,0.5900000000000001,0.5800000000000001,0.5700000000000001,0.56,0.55,0.54,0.53,0.52,0.51,0.5,0.49,0.48,0.47,0.45999999999999996,0.44999999999999996,0.43999999999999995,0.43000000000000005,0.42000000000000004,0.41000000000000003,0.4,0.39,0.38,0.37,0.36,0.35,0.33999999999999997,0.32999999999999996,0.31999999999999995,0.31000000000000005,0.30000000000000004,0.29000000000000004,0.28,0.27,0.26,0.25,0.24,0.22999999999999998,0.21999999999999997,0.20999999999999996,0.19999999999999996,0.18999999999999995,0.18000000000000005,0.17000000000000004,0.16000000000000003,0.15000000000000002,0.14,0.13,0.12,0.10999999999999999,0.09999999999999998,0.08999999999999997,0.07999999999999996,0.06999999999999995,0.06000000000000005,0.050000000000000044,0.040000000000000036,0.030000000000000027,0.020000000000000018,0.010000000000000009,0.009000000000000008,0.008000000000000007,0.007000000000000006,0.005999999999999894,0.0050000000000000044,0.0040000000000000036,0.0030000000000000027,0.0020000000000000018,0.0009999999999998899,0.0009000000000000119,0.0008000000000000229,0.0006999999999999229,0.0006000000000000449,0.0004999999999999449,0.00040000000000006697,0.00029999999999996696,0.00019999999999997797,0.00010000000000010001,9.00000000000345e-5,7.999999999996898e-5,7.00000000000145e-5,5.999999999994898e-5,4.999999999999449e-5,4.0000000000040004e-5,2.999999999997449e-5,1.999999999990898e-5,1.0000000000065512e-5]}],{\"xaxis\":{\"title\":\"Top X percentile of population\",\"tickformat\":\",%\",\"autorange\":\"reversed\"},\"margin\":{\"l\":50,\"b\":50,\"r\":50,\"t\":60},\"title\":\"Distribution of post-tax disposable income\",\"yaxis\":{\"title\":\"Income (2014 dollars)\"}},{}); gd.on(\"plotly_hover\",(function (data){var filtered_data=WebIO.PlotlyCommands.filterEventData(gd,data,\"hover\"); return !(filtered_data.isnil) ? (WebIO.setval({\"name\":\"hover\",\"scope\":\"10787938595225125270\",\"id\":\"7018296401278510250\",\"type\":\"observable\"},filtered_data.out)) : undefined})); gd.on(\"plotly_unhover\",(function (){return WebIO.setval({\"name\":\"hover\",\"scope\":\"10787938595225125270\",\"id\":\"7018296401278510250\",\"type\":\"observable\"},{})})); gd.on(\"plotly_selected\",(function (data){var filtered_data=WebIO.PlotlyCommands.filterEventData(gd,data,\"selected\"); return !(filtered_data.isnil) ? (WebIO.setval({\"name\":\"selected\",\"scope\":\"10787938595225125270\",\"id\":\"13879711293550423360\",\"type\":\"observable\"},filtered_data.out)) : undefined})); gd.on(\"plotly_deselect\",(function (){return WebIO.setval({\"name\":\"selected\",\"scope\":\"10787938595225125270\",\"id\":\"13879711293550423360\",\"type\":\"observable\"},{})})); gd.on(\"plotly_relayout\",(function (data){var filtered_data=WebIO.PlotlyCommands.filterEventData(gd,data,\"relayout\"); return !(filtered_data.isnil) ? (WebIO.setval({\"name\":\"relayout\",\"scope\":\"10787938595225125270\",\"id\":\"9431339989290264721\",\"type\":\"observable\"},filtered_data.out)) : undefined})); return gd.on(\"plotly_click\",(function (data){var filtered_data=WebIO.PlotlyCommands.filterEventData(gd,data,\"click\"); return !(filtered_data.isnil) ? (WebIO.setval({\"name\":\"click\",\"scope\":\"10787938595225125270\",\"id\":\"15670595975439838438\",\"type\":\"observable\"},filtered_data.out)) : undefined}))}));\n    (WebIO.importBlock({\"data\":[{\"name\":\"Plotly\",\"type\":\"js\",\"url\":\"/assetserver/31c0531ad145f23b5bfa6e11df4ce07dd2757a78-plotly-latest.min.js\"},{\"name\":null,\"type\":\"js\",\"url\":\"/assetserver/ad0eac4bb6e2627fe9518f1c6f8ed50c9b8b9199-plotly_webio.bundle.js\"}],\"type\":\"async_block\"})).then((imports) => handler.apply(this, imports));\n}\n"
        ],
        "observables": {
         "__gd_contents": {
          "id": "16493130825594188135",
          "sync": false,
          "value": {}
         },
         "__get_gd_contents": {
          "id": "12814260957107003425",
          "sync": false,
          "value": ""
         },
         "_commands": {
          "id": "7272144544289203311",
          "sync": false,
          "value": []
         },
         "_downloadImage": {
          "id": "4125841517570832354",
          "sync": false,
          "value": {}
         },
         "_toImage": {
          "id": "16464013590866910958",
          "sync": false,
          "value": {}
         },
         "click": {
          "id": "15670595975439838438",
          "sync": false,
          "value": {}
         },
         "hover": {
          "id": "7018296401278510250",
          "sync": false,
          "value": {}
         },
         "image": {
          "id": "16699696036545949337",
          "sync": true,
          "value": ""
         },
         "relayout": {
          "id": "9431339989290264721",
          "sync": false,
          "value": {}
         },
         "selected": {
          "id": "13879711293550423360",
          "sync": false,
          "value": {}
         }
        },
        "systemjs_options": null
       },
       "nodeType": "Scope",
       "props": {},
       "type": "node"
      },
      "image/png": "[encoded data removed]",
      "text/html": [
       "<div\n",
       "    class=\"webio-mountpoint\"\n",
       "    data-webio-mountpoint=\"10608348298188798336\"\n",
       ">\n",
       "    <script>\n",
       "    if (window.require && require.defined && require.defined(\"nbextensions/webio-jupyter-notebook\")) {\n",
       "        console.log(\"Jupyter WebIO extension detected, not mounting.\");\n",
       "    } else if (window.WebIO) {\n",
       "        WebIO.mount(\n",
       "            document.querySelector('[data-webio-mountpoint=\"10608348298188798336\"]'),\n",
       "            {\"props\":{},\"nodeType\":\"Scope\",\"type\":\"node\",\"instanceArgs\":{\"imports\":{\"data\":[{\"name\":\"Plotly\",\"type\":\"js\",\"url\":\"\\/assetserver\\/31c0531ad145f23b5bfa6e11df4ce07dd2757a78-plotly-latest.min.js\"},{\"name\":null,\"type\":\"js\",\"url\":\"\\/assetserver\\/ad0eac4bb6e2627fe9518f1c6f8ed50c9b8b9199-plotly_webio.bundle.js\"}],\"type\":\"async_block\"},\"id\":\"10787938595225125270\",\"handlers\":{\"_toImage\":[\"(function (options){return this.Plotly.toImage(this.plotElem,options).then((function (data){return WebIO.setval({\\\"name\\\":\\\"image\\\",\\\"scope\\\":\\\"10787938595225125270\\\",\\\"id\\\":\\\"16699696036545949337\\\",\\\"type\\\":\\\"observable\\\"},data)}))})\"],\"__get_gd_contents\":[\"(function (prop){prop==\\\"data\\\" ? (WebIO.setval({\\\"name\\\":\\\"__gd_contents\\\",\\\"scope\\\":\\\"10787938595225125270\\\",\\\"id\\\":\\\"16493130825594188135\\\",\\\"type\\\":\\\"observable\\\"},this.plotElem.data)) : undefined; return prop==\\\"layout\\\" ? (WebIO.setval({\\\"name\\\":\\\"__gd_contents\\\",\\\"scope\\\":\\\"10787938595225125270\\\",\\\"id\\\":\\\"16493130825594188135\\\",\\\"type\\\":\\\"observable\\\"},this.plotElem.layout)) : undefined})\"],\"_downloadImage\":[\"(function (options){return this.Plotly.downloadImage(this.plotElem,options)})\"],\"_commands\":[\"(function (args){var fn=args.shift(); var elem=this.plotElem; var Plotly=this.Plotly; args.unshift(elem); return Plotly[fn].apply(this,args)})\"]},\"systemjs_options\":null,\"mount_callbacks\":[\"function () {\\n    var handler = ((function (Plotly,PlotlyWebIO){PlotlyWebIO.init(WebIO); var gd=this.dom.querySelector(\\\"#plot-4286f1cc-e8fd-45cc-a6af-8f8763d2df50\\\"); this.plotElem=gd; this.Plotly=Plotly; (window.Blink!==undefined) ? (gd.style.width=\\\"100%\\\", gd.style.height=\\\"100vh\\\", gd.style.marginLeft=\\\"0%\\\", gd.style.marginTop=\\\"0vh\\\") : undefined; window.onresize=(function (){return Plotly.Plots.resize(gd)}); Plotly.newPlot(gd,[{\\\"mode\\\":\\\"markers\\\",\\\"y\\\":[-9.9474736e7,0.0,0.0,1278.0,2822.4,4206.9,5485.0,6656.5,7668.3,8573.6,9372.4,10117.9,10756.9,11502.4,12141.5,12780.5,13419.5,13952.0,14591.0,15230.1,15762.6,16401.6,16934.1,17466.7,18105.7,18531.7,19170.7,19703.2,20235.8,20661.8,21194.3,21726.8,22259.3,22791.9,23324.4,23750.4,24389.4,24921.9,25348.0,25987.0,26519.5,27052.0,27584.5,28117.1,28649.6,29288.6,29927.6,30460.1,31099.2,31738.2,32377.2,33016.2,33655.3,34294.3,34933.3,35572.3,36317.9,36956.9,37808.9,38447.9,39193.5,40045.5,40791.0,41643.1,42495.1,43347.1,44199.2,45051.2,46009.7,47074.8,48033.3,48991.8,50056.9,51121.9,52187.0,53358.5,54743.1,56127.6,57618.7,59109.7,60707.3,62411.3,64221.9,66139.0,68056.1,70292.6,72635.7,75191.8,77960.9,81369.1,85096.7,89569.9,94788.6,101072.3,108634.1,119284.5,134195.0,156560.9,198097.4,300341.3,320577.0,344007.9,372764.0,408975.3,454772.1,521869.6,618788.3,797714.9,1.2460968e6,1.3419504e6,1.4591048e6,1.59756e6,1.7679664e6,2.0022751e6,2.3217873e6,2.8543073e6,3.7595913e6,6.1133295e6,6.5925975e6,7.1570685e6,7.8493445e6,8.743978e6,9.915522e6,1.171544e7,1.437804e7,1.9277224e7,3.0992664e7],\\\"type\\\":\\\"scatter\\\",\\\"x\\\":[1.0,0.99,0.98,0.97,0.96,0.95,0.94,0.9299999999999999,0.92,0.91,0.9,0.89,0.88,0.87,0.86,0.85,0.84,0.83,0.8200000000000001,0.81,0.8,0.79,0.78,0.77,0.76,0.75,0.74,0.73,0.72,0.71,0.7,0.69,0.6799999999999999,0.6699999999999999,0.6599999999999999,0.65,0.64,0.63,0.62,0.61,0.6,0.5900000000000001,0.5800000000000001,0.5700000000000001,0.56,0.55,0.54,0.53,0.52,0.51,0.5,0.49,0.48,0.47,0.45999999999999996,0.44999999999999996,0.43999999999999995,0.43000000000000005,0.42000000000000004,0.41000000000000003,0.4,0.39,0.38,0.37,0.36,0.35,0.33999999999999997,0.32999999999999996,0.31999999999999995,0.31000000000000005,0.30000000000000004,0.29000000000000004,0.28,0.27,0.26,0.25,0.24,0.22999999999999998,0.21999999999999997,0.20999999999999996,0.19999999999999996,0.18999999999999995,0.18000000000000005,0.17000000000000004,0.16000000000000003,0.15000000000000002,0.14,0.13,0.12,0.10999999999999999,0.09999999999999998,0.08999999999999997,0.07999999999999996,0.06999999999999995,0.06000000000000005,0.050000000000000044,0.040000000000000036,0.030000000000000027,0.020000000000000018,0.010000000000000009,0.009000000000000008,0.008000000000000007,0.007000000000000006,0.005999999999999894,0.0050000000000000044,0.0040000000000000036,0.0030000000000000027,0.0020000000000000018,0.0009999999999998899,0.0009000000000000119,0.0008000000000000229,0.0006999999999999229,0.0006000000000000449,0.0004999999999999449,0.00040000000000006697,0.00029999999999996696,0.00019999999999997797,0.00010000000000010001,9.00000000000345e-5,7.999999999996898e-5,7.00000000000145e-5,5.999999999994898e-5,4.999999999999449e-5,4.0000000000040004e-5,2.999999999997449e-5,1.999999999990898e-5,1.0000000000065512e-5]}],{\\\"xaxis\\\":{\\\"title\\\":\\\"Top X percentile of population\\\",\\\"tickformat\\\":\\\",%\\\",\\\"autorange\\\":\\\"reversed\\\"},\\\"margin\\\":{\\\"l\\\":50,\\\"b\\\":50,\\\"r\\\":50,\\\"t\\\":60},\\\"title\\\":\\\"Distribution of post-tax disposable income\\\",\\\"yaxis\\\":{\\\"title\\\":\\\"Income (2014 dollars)\\\"}},{}); gd.on(\\\"plotly_hover\\\",(function (data){var filtered_data=WebIO.PlotlyCommands.filterEventData(gd,data,\\\"hover\\\"); return !(filtered_data.isnil) ? (WebIO.setval({\\\"name\\\":\\\"hover\\\",\\\"scope\\\":\\\"10787938595225125270\\\",\\\"id\\\":\\\"7018296401278510250\\\",\\\"type\\\":\\\"observable\\\"},filtered_data.out)) : undefined})); gd.on(\\\"plotly_unhover\\\",(function (){return WebIO.setval({\\\"name\\\":\\\"hover\\\",\\\"scope\\\":\\\"10787938595225125270\\\",\\\"id\\\":\\\"7018296401278510250\\\",\\\"type\\\":\\\"observable\\\"},{})})); gd.on(\\\"plotly_selected\\\",(function (data){var filtered_data=WebIO.PlotlyCommands.filterEventData(gd,data,\\\"selected\\\"); return !(filtered_data.isnil) ? (WebIO.setval({\\\"name\\\":\\\"selected\\\",\\\"scope\\\":\\\"10787938595225125270\\\",\\\"id\\\":\\\"13879711293550423360\\\",\\\"type\\\":\\\"observable\\\"},filtered_data.out)) : undefined})); gd.on(\\\"plotly_deselect\\\",(function (){return WebIO.setval({\\\"name\\\":\\\"selected\\\",\\\"scope\\\":\\\"10787938595225125270\\\",\\\"id\\\":\\\"13879711293550423360\\\",\\\"type\\\":\\\"observable\\\"},{})})); gd.on(\\\"plotly_relayout\\\",(function (data){var filtered_data=WebIO.PlotlyCommands.filterEventData(gd,data,\\\"relayout\\\"); return !(filtered_data.isnil) ? (WebIO.setval({\\\"name\\\":\\\"relayout\\\",\\\"scope\\\":\\\"10787938595225125270\\\",\\\"id\\\":\\\"9431339989290264721\\\",\\\"type\\\":\\\"observable\\\"},filtered_data.out)) : undefined})); return gd.on(\\\"plotly_click\\\",(function (data){var filtered_data=WebIO.PlotlyCommands.filterEventData(gd,data,\\\"click\\\"); return !(filtered_data.isnil) ? (WebIO.setval({\\\"name\\\":\\\"click\\\",\\\"scope\\\":\\\"10787938595225125270\\\",\\\"id\\\":\\\"15670595975439838438\\\",\\\"type\\\":\\\"observable\\\"},filtered_data.out)) : undefined}))}));\\n    (WebIO.importBlock({\\\"data\\\":[{\\\"name\\\":\\\"Plotly\\\",\\\"type\\\":\\\"js\\\",\\\"url\\\":\\\"\\/assetserver\\/31c0531ad145f23b5bfa6e11df4ce07dd2757a78-plotly-latest.min.js\\\"},{\\\"name\\\":null,\\\"type\\\":\\\"js\\\",\\\"url\\\":\\\"\\/assetserver\\/ad0eac4bb6e2627fe9518f1c6f8ed50c9b8b9199-plotly_webio.bundle.js\\\"}],\\\"type\\\":\\\"async_block\\\"})).then((imports) => handler.apply(this, imports));\\n}\\n\"],\"observables\":{\"_toImage\":{\"sync\":false,\"id\":\"16464013590866910958\",\"value\":{}},\"hover\":{\"sync\":false,\"id\":\"7018296401278510250\",\"value\":{}},\"selected\":{\"sync\":false,\"id\":\"13879711293550423360\",\"value\":{}},\"__gd_contents\":{\"sync\":false,\"id\":\"16493130825594188135\",\"value\":{}},\"click\":{\"sync\":false,\"id\":\"15670595975439838438\",\"value\":{}},\"image\":{\"sync\":true,\"id\":\"16699696036545949337\",\"value\":\"\"},\"__get_gd_contents\":{\"sync\":false,\"id\":\"12814260957107003425\",\"value\":\"\"},\"_downloadImage\":{\"sync\":false,\"id\":\"4125841517570832354\",\"value\":{}},\"relayout\":{\"sync\":false,\"id\":\"9431339989290264721\",\"value\":{}},\"_commands\":{\"sync\":false,\"id\":\"7272144544289203311\",\"value\":[]}}},\"children\":[{\"props\":{\"id\":\"plot-4286f1cc-e8fd-45cc-a6af-8f8763d2df50\"},\"nodeType\":\"DOM\",\"type\":\"node\",\"instanceArgs\":{\"namespace\":\"html\",\"tag\":\"div\"},\"children\":[]}]},\n",
       "            window,\n",
       "        );\n",
       "    } else {\n",
       "        document\n",
       "            .querySelector('[data-webio-mountpoint=\"10608348298188798336\"]')\n",
       "            .innerHTML = (\n",
       "                '<strong>WebIO not detected. Please read ' +\n",
       "                '<a href=\"https://juliagizmos.github.io/WebIO.jl/latest/troubleshooting/not-detected/\">the troubleshooting guide</a> ' +\n",
       "                'for more information on how to resolve this issue.' +\n",
       "                '</strong>'\n",
       "            );\n",
       "    }\n",
       "    </script>\n",
       "</div>\n"
      ],
      "text/plain": [
       "data: [\n",
       "  \"scatter with fields mode, type, x, and y\"\n",
       "]\n",
       "\n",
       "layout: \"layout with fields margin, title, xaxis, and yaxis\"\n",
       "\n"
      ]
     },
     "execution_count": 11,
     "metadata": {},
     "output_type": "execute_result"
    }
   ],
   "source": [
    "plot(\n",
    "    scatter(\n",
    "        x = [1-x for x in initial_df.start],\n",
    "        y = initial_df.value,\n",
    "        mode = \"markers\"\n",
    "    ),\n",
    "    Layout(\n",
    "        title = \"Distribution of post-tax disposable income\",\n",
    "        xaxis_autorange = \"reversed\", \n",
    "        xaxis_tickformat = \",%\",\n",
    "        xaxis_title = \"Top X percentile of population\",\n",
    "        yaxis_title = \"Income (2014 dollars)\",\n",
    "    )\n",
    ")"
   ]
  },
  {
   "cell_type": "code",
   "execution_count": null,
   "metadata": {},
   "outputs": [],
   "source": []
  }
 ],
 "metadata": {
  "kernelspec": {
   "display_name": "Julia 1.4.1",
   "language": "julia",
   "name": "julia-1.4"
  },
  "language_info": {
   "file_extension": ".jl",
   "mimetype": "application/julia",
   "name": "julia",
   "version": "1.4.1"
  }
 },
 "nbformat": 4,
 "nbformat_minor": 2
}
